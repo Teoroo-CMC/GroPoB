{
 "cells": [
  {
   "cell_type": "code",
   "execution_count": 52,
   "id": "ce236275",
   "metadata": {
    "ExecuteTime": {
     "end_time": "2023-01-12T15:16:37.267307Z",
     "start_time": "2023-01-12T15:16:34.981935Z"
    }
   },
   "outputs": [
    {
     "name": "stdout",
     "output_type": "stream",
     "text": [
      "Polymer abbrevation? (3 or 4 letters and preferable in caps): \n",
      "End group? (3 or 4 letters and preferable in caps): \n",
      "Charge of the molecule: \n",
      "PE OH 0\n"
     ]
    },
    {
     "name": "stderr",
     "output_type": "stream",
     "text": [
      "mkdir: cannot create directory ‘/home/harish/GroPolBul/monomers/PE_OH’: File exists\n"
     ]
    },
    {
     "name": "stdout",
     "output_type": "stream",
     "text": [
      "Monomer mol2 file or SMILE fomat: \n"
     ]
    },
    {
     "data": {
      "application/vnd.jupyter.widget-view+json": {
       "model_id": "fadaf99dee214254bdf1d1de9fec4bbe",
       "version_major": 2,
       "version_minor": 0
      },
      "text/plain": [
       "NGLWidget()"
      ]
     },
     "metadata": {},
     "output_type": "display_data"
    }
   ],
   "source": [
    "#import *\n",
    "import numpy as np\n",
    "import os\n",
    "import nglview as ngl\n",
    "from ase.io import read, write\n",
    "from molmass import Formula\n",
    "import random\n",
    "\n",
    "SYSDIR='/home/harish/GroPolBul'\n",
    "##Give short polymer name and charge\n",
    "res=input(\"Polymer abbrevation? (3 or 4 letters and preferable in caps): \") or \"PE\"\n",
    "end=input(\"End group? (3 or 4 letters and preferable in caps): \") or \"OH\"\n",
    "chg=input(\"Charge of the molecule: \") or \"0\"\n",
    "print(res,end,chg)\n",
    "MONDIR=str(SYSDIR)+'/monomers/'+str(poly)+'_'+str(endg)\n",
    "os.popen('mkdir '+str(MONDIR));os.chdir(str(MONDIR))\n",
    "\n",
    "##Paramaterize the monomer with acpype\n",
    "mono=input(\"Monomer mol2 file or SMILE fomat: \") or \"OCCCCCCCCCCCCO\"\n",
    "#os.popen('rm -r '+str(res)+'.acpype')\n",
    "#os.popen('acpype -i '+str(mono)+' -b '+str(res)+' -n '+str(chg)+' -o gmx').read()\n",
    "os.popen(\"sed -e 's/UNL/\"+str(res)+\"/g' \"+str(res)+\".acpype/sqm.pdb > \"+str(res)+\".pdb\").read()\n",
    "os.popen(\"sed -e 's/UNL/\"+str(res)+\"/g' \"+str(res)+\".acpype/ANTECHAMBER_AC.AC > \"+str(res)+\".ac\").read()\n",
    "\n",
    "#Visualize the molecule\n",
    "mol=read(str(res)+'.acpype/PE_GMX.gro')\n",
    "vi=ngl.show_ase(mol);vi.add_label(radius=2,color='black',label_type='atomindex')\n",
    "vi\n"
   ]
  },
  {
   "cell_type": "code",
   "execution_count": 53,
   "id": "a05cd793",
   "metadata": {
    "ExecuteTime": {
     "end_time": "2023-01-12T15:17:17.087051Z",
     "start_time": "2023-01-12T15:17:14.432044Z"
    }
   },
   "outputs": [
    {
     "name": "stdout",
     "output_type": "stream",
     "text": [
      "Monomer's Head atom index: \n",
      "Monomer's Tail atom index: \n",
      "Atom indices to omit near head: \n",
      "Atom indices to omit near tail: \n"
     ]
    },
    {
     "data": {
      "text/plain": [
       "'\\nPRE_HEAD_TYPE is    c3\\nNet charge of truncated molecule is     0.00\\nHEAD_ATOM      3   C1\\nMAIN_CHAIN     1    3   C1\\nOMIT_ATOM      1    1    O\\nOMIT_ATOM      2    2    C\\nOMIT_ATOM      3   15    H\\nOMIT_ATOM      4   16   H1\\nOMIT_ATOM      5   17   H2\\nNumber of mainchain atoms (including head and tail atom):     1\\nNumber of omited atoms:     5'"
      ]
     },
     "execution_count": 53,
     "metadata": {},
     "output_type": "execute_result"
    }
   ],
   "source": [
    "#Defining CHAIN HEAD and TAIL in the monomer directory\n",
    "os.chdir(str(MONDIR))\n",
    "ac=open(str(res)+'.ac',mode='r') #Reading .ac file\n",
    "[next(ac) for _ in range(2)] #Skipping first two lines of text\n",
    "l=ac.readlines() #Reading lines\n",
    "\n",
    "#Breaking the parts of monomer to CHAIN, HEAD and TAIL\n",
    "chain=open(str(res)+'.chain','w+');head=open(str(res)+'.head','w+');tail=open(str(res)+'.tail','w+')\n",
    "#Atom index where head and tail of monomer\n",
    "#Check from above ngl view of mol\n",
    "head_id=int(input(\"Monomer's Head atom index: \") or 2)\n",
    "tail_id=int(input(\"Monomer's Tail atom index: \") or 11)\n",
    "\n",
    "chain.write('HEAD_NAME '+str(l[head_id].split()[2])+'\\n')\n",
    "tail.write('HEAD_NAME '+str(l[head_id].split()[2])+'\\n')\n",
    "chain.write('TAIL_NAME '+str(l[tail_id].split()[2])+'\\n')\n",
    "head.write('TAIL_NAME '+str(l[tail_id].split()[2])+'\\n')\n",
    "\n",
    "head_omit=input(\"Atom indices to omit near head: \").split() or [0, 1, 14, 15, 16]\n",
    "tail_omit=input(\"Atom indices to omit near tail: \").split() or [12, 13, 37, 38, 39]\n",
    "\n",
    "for i in range(len(head_omit)):\n",
    "\tchain.write('OMIT_NAME '+str(l[int(head_omit[i])].split()[2])+'\\n')\n",
    "\ttail.write('OMIT_NAME '+str(l[int(head_omit[i])].split()[2])+'\\n')\n",
    "chain.write('PRE_HEAD_TYPE '+str(l[tail_id].split()[9])+'\\n')\n",
    "tail.write('PRE_HEAD_TYPE '+str(l[tail_id].split()[9])+'\\n')\n",
    "tail.write('CHARGE '+str(charge))\n",
    "\n",
    "for i in range(len(tail_omit)):\n",
    "\tchain.write('OMIT_NAME '+str(l[int(tail_omit[i])].split()[2])+'\\n')\n",
    "\thead.write('OMIT_NAME '+str(l[int(tail_omit[i])].split()[2])+'\\n')\n",
    "chain.write('POST_TAIL_TYPE '+str(l[head_id].split()[9])+'\\n')\n",
    "chain.write('CHARGE '+str(float(charge)))\n",
    "head.write('POST_TAIL_TYPE '+str(l[head_id].split()[9])+'\\n')\n",
    "head.write('CHARGE '+str(float(charge)))\n",
    "\n",
    "chain.close();head.close();tail.close()\n",
    "\n",
    "#Use prepgen to prepare the CHAIN, HEAD and TAIL res files\n",
    "#Adds dummy atoms at the desired positions\n",
    "os.popen('prepgen -i '+str(res)+'.ac -o '+str(res)+'.prepi -f prepi -m '+str(res)+'.chain -rn '+str(res)+' -rf '+str(res)+'.res').read() \n",
    "os.popen('prepgen -i '+str(res)+'.ac -o HPT.prepi -f prepi -m '+str(res)+'.head -rn HPT -rf HPT.res').read() \n",
    "os.popen('prepgen -i '+str(res)+'.ac -o TPT.prepi -f prepi -m '+str(res)+'.tail -rn TPT -rf TPT.res').read() \n"
   ]
  },
  {
   "cell_type": "code",
   "execution_count": 58,
   "id": "b9cb1af7",
   "metadata": {
    "ExecuteTime": {
     "end_time": "2023-01-12T15:18:47.989909Z",
     "start_time": "2023-01-12T15:18:44.943431Z"
    }
   },
   "outputs": [
    {
     "name": "stdout",
     "output_type": "stream",
     "text": [
      "Number of monomers in the repeating unit: \n",
      "Desired number of monomers in the polymer: 15\n"
     ]
    },
    {
     "name": "stderr",
     "output_type": "stream",
     "text": [
      "mkdir: cannot create directory ‘/home/harish/GroPolBul/polymers/PE_OH_15mer’: File exists\n"
     ]
    },
    {
     "name": "stdout",
     "output_type": "stream",
     "text": [
      "HPT PE TPT\n"
     ]
    },
    {
     "data": {
      "text/plain": [
       "'==========================================================================\\n| ACPYPE: AnteChamber PYthon Parser interfacE v. 2022.6.6 (c) 2023 AWSdS |\\n==========================================================================\\nConverting Amber input files to Gromacs ...\\n==> Writing GROMACS files\\n\\n==> Disambiguating lower and uppercase atomtypes in GMX top file, even if identical.\\n\\n==> Writing GMX dihedrals for GMX 4.5 and higher.\\n\\nTotal time of execution: less than a second\\n'"
      ]
     },
     "execution_count": 58,
     "metadata": {},
     "output_type": "execute_result"
    }
   ],
   "source": [
    "#Build the desired homopolymer using above prepi files\n",
    "n_mono_repeat=int(input(\"Number of monomers in the repeating unit: \") or 5)\n",
    "n_mono_pol=int(input(\"Desired number of monomers in the polymer: \") or 10)\n",
    "POLDIR=str(SYSDIR)+'/polymers/'+str(res)+'_'+str(end)+'_'+str(n_mono_pol)+'mer'\n",
    "os.popen('mkdir '+str(POLDIR))\n",
    "os.chdir(str(POLDIR))\n",
    "os.popen('cp '+str(MONDIR)+'/'+str(res)+'.pdb '+str(res)+'_repeatunit.pdb')\n",
    "\n",
    "repeat=\" \".join([res] * int(int(n_mono_pol/n_mono_repeat)-2))\n",
    "print('HPT '+str(repeat)+' TPT')\n",
    "tleap=open(str(res)+'_tleap.in','w+')\n",
    "tleap.write('''source leaprc.gaff\n",
    "loadamberprep '''+str(MONDIR)+'''/'''+str(res)+'''.prepi\n",
    "loadamberprep '''+str(MONDIR)+'''/HPT.prepi\n",
    "loadamberprep '''+str(MONDIR)+'''/TPT.prepi\n",
    "mol = sequence {HPT '''+str(repeat)+''' TPT}\n",
    "savepdb mol '''+str(res)+'''_polymer.pdb\n",
    "saveamberparm mol '''+str(res)+'''_polymer.prmtop '''+str(res)+'''_polymer.inpcrd\n",
    "quit''')\n",
    "tleap.close()\n",
    "\n",
    "os.popen('tleap -s -f '+str(res)+'_tleap.in > '+str(res)+'_tleap.out').read()\n",
    "os.popen('acpype -p '+str(res)+'_polymer.prmtop -x '+str(res)+'_polymer.inpcrd').read()\n"
   ]
  },
  {
   "cell_type": "code",
   "execution_count": 59,
   "id": "d0d21cff",
   "metadata": {
    "ExecuteTime": {
     "end_time": "2023-01-12T15:32:03.125430Z",
     "start_time": "2023-01-12T15:32:03.015218Z"
    }
   },
   "outputs": [
    {
     "data": {
      "application/vnd.jupyter.widget-view+json": {
       "model_id": "573e1d8e403d439ea7d88e1feeb54134",
       "version_major": 2,
       "version_minor": 0
      },
      "text/plain": [
       "NGLWidget()"
      ]
     },
     "metadata": {},
     "output_type": "display_data"
    }
   ],
   "source": [
    "#Visualize the molecule\n",
    "mol=read(str(res)+'_polymer.pdb')\n",
    "vi=ngl.show_ase(mol);#vi.add_label(radius=2,color='black',label_type='atomindex')\n",
    "vi\n"
   ]
  },
  {
   "cell_type": "code",
   "execution_count": null,
   "id": "50b14533",
   "metadata": {},
   "outputs": [],
   "source": []
  }
 ],
 "metadata": {
  "hide_input": false,
  "kernelspec": {
   "display_name": "Python 3 (ipykernel)",
   "language": "python",
   "name": "python3"
  },
  "language_info": {
   "codemirror_mode": {
    "name": "ipython",
    "version": 3
   },
   "file_extension": ".py",
   "mimetype": "text/x-python",
   "name": "python",
   "nbconvert_exporter": "python",
   "pygments_lexer": "ipython3",
   "version": "3.7.11"
  },
  "latex_envs": {
   "LaTeX_envs_menu_present": true,
   "autoclose": false,
   "autocomplete": true,
   "bibliofile": "biblio.bib",
   "cite_by": "apalike",
   "current_citInitial": 1,
   "eqLabelWithNumbers": true,
   "eqNumInitial": 1,
   "hotkeys": {
    "equation": "Ctrl-E",
    "itemize": "Ctrl-I"
   },
   "labels_anchors": false,
   "latex_user_defs": false,
   "report_style_numbering": false,
   "user_envs_cfg": false
  },
  "toc": {
   "base_numbering": 1,
   "nav_menu": {},
   "number_sections": true,
   "sideBar": true,
   "skip_h1_title": false,
   "title_cell": "Table of Contents",
   "title_sidebar": "Contents",
   "toc_cell": false,
   "toc_position": {},
   "toc_section_display": true,
   "toc_window_display": false
  },
  "varInspector": {
   "cols": {
    "lenName": 16,
    "lenType": 16,
    "lenVar": 40
   },
   "kernels_config": {
    "python": {
     "delete_cmd_postfix": "",
     "delete_cmd_prefix": "del ",
     "library": "var_list.py",
     "varRefreshCmd": "print(var_dic_list())"
    },
    "r": {
     "delete_cmd_postfix": ") ",
     "delete_cmd_prefix": "rm(",
     "library": "var_list.r",
     "varRefreshCmd": "cat(var_dic_list()) "
    }
   },
   "types_to_exclude": [
    "module",
    "function",
    "builtin_function_or_method",
    "instance",
    "_Feature"
   ],
   "window_display": false
  }
 },
 "nbformat": 4,
 "nbformat_minor": 5
}
