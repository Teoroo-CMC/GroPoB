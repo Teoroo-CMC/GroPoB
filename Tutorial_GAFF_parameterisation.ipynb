{
 "cells": [
  {
   "cell_type": "code",
   "execution_count": 1,
   "id": "80a0ac45-0abb-416b-b566-2cebcef36900",
   "metadata": {},
   "outputs": [
    {
     "data": {
      "application/vnd.jupyter.widget-view+json": {
       "model_id": "8923d58f5c3a4054bcd50623754dbab7",
       "version_major": 2,
       "version_minor": 0
      },
      "text/plain": []
     },
     "metadata": {},
     "output_type": "display_data"
    },
    {
     "name": "stdout",
     "output_type": "stream",
     "text": [
      "[Errno 2] No such file or directory: '/home/harishkemi/GroPolBul/tutorial/'\n",
      "/mnt/c/Users/hargu978/Documents\n",
      "[Errno 2] No such file or directory: 'PEO_CH3'\n",
      "/mnt/c/Users/hargu978/Documents\n"
     ]
    },
    {
     "name": "stderr",
     "output_type": "stream",
     "text": [
      "/mnt/c/Users/hargu978/Documents/miniconda3/lib/python3.11/site-packages/IPython/core/magics/osm.py:393: UserWarning: using bookmarks requires you to install the `pickleshare` library.\n",
      "  bkms = self.shell.db.get('bookmarks', {})\n"
     ]
    }
   ],
   "source": [
    "#import *\n",
    "import numpy as np\n",
    "import os\n",
    "import nglview as ngl\n",
    "from ase.io import read, write\n",
    "WDIR='~/GroPolBul/tutorial/'\n",
    "#%mkdir {WDIR}\n",
    "%cd {WDIR}\n",
    "\n",
    "#Desired polymer electrolyte system\n",
    "#%mkdir PEO_CH3\n",
    "%cd PEO_CH3"
   ]
  },
  {
   "cell_type": "markdown",
   "id": "9995e4b4-2edf-478d-850c-74317ea856ee",
   "metadata": {},
   "source": [
    "# Step-1: Parameterizing monomer"
   ]
  },
  {
   "cell_type": "code",
   "execution_count": 3,
   "id": "c5eec02e",
   "metadata": {},
   "outputs": [
    {
     "name": "stdout",
     "output_type": "stream",
     "text": [
      "\n",
      "Welcome to antechamber 22.0: molecular input file processor.\n",
      "\n",
      "Info: acdoctor mode is on: check and diagnose problems in the input file.\n",
      "Info: The atom type is set to gaff; the options available to the -at flag are\n",
      "      gaff, gaff2, amber, bcc, and sybyl.\n",
      "\n",
      "-- Check Format for pdb File --\n",
      "   Status: pass\n",
      "-- Check Unusual Elements --\n",
      "   Status: pass\n",
      "-- Check Open Valences --\n",
      "   Status: pass\n",
      "-- Check Geometry --\n",
      "      for those bonded   \n",
      "      for those not bonded   \n",
      "   Status: pass\n",
      "-- Check Weird Bonds --\n",
      "   Status: pass\n",
      "-- Check Number of Units --\n",
      "   Status: pass\n",
      "acdoctor mode has completed checking the input file.\n",
      "\n",
      "/bin/bash: /mnt/c/Users/hargu978/Documents/miniconda3/lib/libtinfo.so.6: no version information available (required by /bin/bash)\n",
      "/bin/bash: /mnt/c/Users/hargu978/Documents/miniconda3/lib/libtinfo.so.6: no version information available (required by /bin/bash)\n",
      "Info: Total number of electrons: 138; net charge: 0\n",
      "\n",
      "Running: /mnt/c/Users/hargu978/Documents/miniconda3/bin/sqm -O -i sqm.in -o sqm.out\n",
      "/bin/bash: /mnt/c/Users/hargu978/Documents/miniconda3/lib/libtinfo.so.6: no version information available (required by /bin/bash)\n",
      "/bin/bash: /mnt/c/Users/hargu978/Documents/miniconda3/lib/libtinfo.so.6: no version information available (required by /bin/bash)\n",
      "\n"
     ]
    }
   ],
   "source": [
    "#Use shor polymer with repeat group, head and tail group\n",
    "#repeat group: COCCOCCOCCOCCOC\n",
    "#head and tail group: C\n",
    "#Use antechaber (ambertools) to optimize and prameterise with AM1-BCC charges \n",
    "#antechamber options help:\n",
    "#Usage: antechamber -i     input file name\n",
    "#                   -fi    input file format\n",
    "#                   -o     output file name\n",
    "#                   -fo    output file format\n",
    "#                   -c     charge method\n",
    "#                   -nc    net molecular charge (int)\n",
    "#                   -rn    residue name\n",
    "\n",
    "!antechamber -i PEO_initial.pdb -fi pdb -o PEO.ac -fo ac -at gaff -an y -c bcc -nc 0 -rn PEO \n"
   ]
  },
  {
   "cell_type": "code",
   "execution_count": 2,
   "id": "304dd30e-80ba-490a-a6db-6e454e2eb3f3",
   "metadata": {},
   "outputs": [
    {
     "data": {
      "application/vnd.jupyter.widget-view+json": {
       "model_id": "8a698983522c4b9faf81600ba988bbf3",
       "version_major": 2,
       "version_minor": 0
      },
      "text/plain": [
       "NGLWidget()"
      ]
     },
     "metadata": {},
     "output_type": "display_data"
    }
   ],
   "source": [
    "#Visualize the molecule\n",
    "mon=read('sqm.pdb')\n",
    "vi=ngl.show_ase(mon);vi.add_label(radius=2,color='black',label_type='atomindex')\n",
    "vi\n"
   ]
  },
  {
   "cell_type": "markdown",
   "id": "19544616-c070-4188-8530-3c9fa7da09c4",
   "metadata": {},
   "source": [
    "# Step-2: Defining the HEAD, CHAIN, and TAIL of monomer"
   ]
  },
  {
   "cell_type": "code",
   "execution_count": 5,
   "id": "2384aa63-956d-47bf-8f39-72b23c6e2b70",
   "metadata": {},
   "outputs": [],
   "source": [
    "#Defining CHAIN HEAD and TAIL in the monomer directory\n",
    "ac=open('PEO.ac',mode='r') #Reading .ac file\n",
    "[next(ac) for _ in range(2)] #Skipping first two lines of text\n",
    "l=ac.readlines() #Reading lines\n",
    "\n",
    "#Breaking the parts of monomer to CHAIN, HEAD and TAIL\n",
    "#Atom index where head and tail of monomer; Check from above ngl view of mol\n",
    "#Change these values accordingly\n",
    "head_id=1\n",
    "tail_id=7\n",
    "\n",
    "head_omit=[3, 23, 24, 25] #Atoms to omit near head\n",
    "tail_omit=[8, 32, 33, 34] #Atoms to omit near tail\n"
   ]
  },
  {
   "cell_type": "code",
   "execution_count": 6,
   "id": "2c438f26",
   "metadata": {},
   "outputs": [
    {
     "name": "stdout",
     "output_type": "stream",
     "text": [
      "\n",
      "PRE_HEAD_TYPE is    c3\n",
      "POST_TAIL_TYPE is    c3\n",
      "Net charge of truncated molecule is     0.00\n",
      "HEAD_ATOM      2   C1\n",
      "TAIL_ATOM      8   C6\n",
      "MAIN_CHAIN     1    2   C1\n",
      "MAIN_CHAIN     2    8   C6\n",
      "OMIT_ATOM      1    4   C3\n",
      "OMIT_ATOM      2   24   H6\n",
      "OMIT_ATOM      3   25   H7\n",
      "OMIT_ATOM      4   26   H8\n",
      "OMIT_ATOM      5    9   C7\n",
      "OMIT_ATOM      6   33  H15\n",
      "OMIT_ATOM      7   34  H16\n",
      "OMIT_ATOM      8   35  H17\n",
      "Number of mainchain atoms (including head and tail atom):     2\n",
      "Number of omited atoms:     8\n",
      "POST_TAIL_TYPE is    c3\n",
      "Net charge of truncated molecule is     0.00\n",
      "TAIL_ATOM      8   C6\n",
      "MAIN_CHAIN     1    8   C6\n",
      "OMIT_ATOM      1    9   C7\n",
      "OMIT_ATOM      2   33  H15\n",
      "OMIT_ATOM      3   34  H16\n",
      "OMIT_ATOM      4   35  H17\n",
      "Number of mainchain atoms (including head and tail atom):     1\n",
      "Number of omited atoms:     4\n",
      "PRE_HEAD_TYPE is    c3\n",
      "Net charge of truncated molecule is     0.00\n",
      "HEAD_ATOM      2   C1\n",
      "MAIN_CHAIN     1    2   C1\n",
      "OMIT_ATOM      1    4   C3\n",
      "OMIT_ATOM      2   24   H6\n",
      "OMIT_ATOM      3   25   H7\n",
      "OMIT_ATOM      4   26   H8\n",
      "Number of mainchain atoms (including head and tail atom):     1\n",
      "Number of omited atoms:     4"
     ]
    }
   ],
   "source": [
    "#Write the atom indexes of CHAIN, HEAD and TAIL\n",
    "chain=open('PEO.chain','w+');head=open('PEO.head','w+');tail=open('PEO.tail','w+')\n",
    "\n",
    "chain.write('HEAD_NAME '+str(l[head_id].split()[2])+'\\n')\n",
    "tail.write('HEAD_NAME '+str(l[head_id].split()[2])+'\\n')\n",
    "chain.write('TAIL_NAME '+str(l[tail_id].split()[2])+'\\n')\n",
    "head.write('TAIL_NAME '+str(l[tail_id].split()[2])+'\\n')\n",
    "\n",
    "for i in range(len(head_omit)):\n",
    "\tchain.write('OMIT_NAME '+str(l[int(head_omit[i])].split()[2])+'\\n')\n",
    "\ttail.write('OMIT_NAME '+str(l[int(head_omit[i])].split()[2])+'\\n')\n",
    "chain.write('PRE_HEAD_TYPE '+str(l[tail_id].split()[9])+'\\n')\n",
    "tail.write('PRE_HEAD_TYPE '+str(l[tail_id].split()[9])+'\\n')\n",
    "tail.write('CHARGE 0')\n",
    "\n",
    "for i in range(len(tail_omit)):\n",
    "\tchain.write('OMIT_NAME '+str(l[int(tail_omit[i])].split()[2])+'\\n')\n",
    "\thead.write('OMIT_NAME '+str(l[int(tail_omit[i])].split()[2])+'\\n')\n",
    "chain.write('POST_TAIL_TYPE '+str(l[head_id].split()[9])+'\\n')\n",
    "chain.write('CHARGE 0')\n",
    "head.write('POST_TAIL_TYPE '+str(l[head_id].split()[9])+'\\n')\n",
    "head.write('CHARGE 0')\n",
    "\n",
    "chain.close();head.close();tail.close()\n",
    "\n",
    "#Use prepgen to prepare the CHAIN, HEAD and TAIL res files\n",
    "#Adds dummy atoms at the desired positions\n",
    "!prepgen -i PEO.ac -o PEO.prepi -f prepi -m PEO.chain -rn PEO -rf PEO.res \n",
    "!prepgen -i PEO.ac -o HPT.prepi -f prepi -m PEO.head -rn HPT -rf HPT.res \n",
    "!prepgen -i PEO.ac -o TPT.prepi -f prepi -m PEO.tail -rn TPT -rf TPT.res "
   ]
  },
  {
   "cell_type": "markdown",
   "id": "fc29903c-0839-41ca-a4a0-bce3ea948add",
   "metadata": {},
   "source": [
    "# Step-3: Build and parameterize single polymer chain"
   ]
  },
  {
   "cell_type": "code",
   "execution_count": 7,
   "id": "e5424537-bcf8-40db-b88b-1172dd9f101a",
   "metadata": {},
   "outputs": [
    {
     "name": "stdout",
     "output_type": "stream",
     "text": [
      "HPT PEO PEO PEO TPT\n"
     ]
    }
   ],
   "source": [
    "#Build the desired homopolymer using above prepi files\n",
    "#%mkdir polymer\n",
    "n_mono_repeat=5\n",
    "n_mono_pol=25\n",
    "\n",
    "repeat=\" \".join(['PEO'] * int(int(n_mono_pol/n_mono_repeat)-2))\n",
    "print('HPT '+str(repeat)+' TPT')\n",
    "\n",
    "#Write the tleap input file to combine the preparatory files and build polymer chain\n",
    "tleap=open('polymer/PEO_tleap.in','w+')\n",
    "tleap.write('''source leaprc.gaff\n",
    "loadamberprep PEO.prepi\n",
    "loadamberprep HPT.prepi\n",
    "loadamberprep TPT.prepi\n",
    "mol = sequence {HPT '''+str(repeat)+''' TPT}\n",
    "savepdb mol polymer/PEO_'''+str(n_mono_pol)+'''mer.pdb\n",
    "saveamberparm mol polymer/PEO_'''+str(n_mono_pol)+'''mer.prmtop polymer/PEO_'''+str(n_mono_pol)+'''mer.inpcrd\n",
    "quit''')\n",
    "tleap.close()\n",
    "\n",
    "!tleap -s -f polymer/PEO_tleap.in > polymer/PEO_tleap.out"
   ]
  },
  {
   "cell_type": "code",
   "execution_count": 10,
   "id": "49dc9f1a-96ac-47f5-a9d3-f50ef4cedcf6",
   "metadata": {},
   "outputs": [
    {
     "name": "stdout",
     "output_type": "stream",
     "text": [
      "Traceback (most recent call last):\n",
      "  File \"/mnt/c/Users/hargu978/Documents/GroPolBul/tutorial/PEO_CH3/../../convert.py\", line 13, in <module>\n",
      "    import intermol.gromacs as gmx\n",
      "  File \"/mnt/c/Users/hargu978/Documents/miniconda3/lib/python3.11/site-packages/intermol/gromacs/__init__.py\", line 8, in <module>\n",
      "    from intermol.gromacs.gromacs_parser import load, save\n",
      "  File \"/mnt/c/Users/hargu978/Documents/miniconda3/lib/python3.11/site-packages/intermol/gromacs/gromacs_parser.py\", line 15, in <module>\n",
      "    from intermol.moleculetype import MoleculeType\n",
      "  File \"/mnt/c/Users/hargu978/Documents/miniconda3/lib/python3.11/site-packages/intermol/moleculetype.py\", line 1, in <module>\n",
      "    from intermol.orderedset import OrderedSet\n",
      "  File \"/mnt/c/Users/hargu978/Documents/miniconda3/lib/python3.11/site-packages/intermol/orderedset.py\", line 5, in <module>\n",
      "    class OrderedSet(collections.Set):\n",
      "                     ^^^^^^^^^^^^^^^\n",
      "AttributeError: module 'collections' has no attribute 'Set'\n"
     ]
    }
   ],
   "source": [
    "#Converting AMBER to GROMACS using \"intermol\".\n",
    "!python ../../convert.py --amb_in polymer/PEO_{n_mono_pol}mer.inpcrd polymer/PEO_{n_mono_pol}mer.prmtop --gromacs "
   ]
  },
  {
   "cell_type": "code",
   "execution_count": 3,
   "id": "31aed698-32c4-4b1b-ac6c-d9f46f9525e1",
   "metadata": {},
   "outputs": [
    {
     "data": {
      "application/vnd.jupyter.widget-view+json": {
       "model_id": "774a5dd4ab71494486c338a646c1940a",
       "version_major": 2,
       "version_minor": 0
      },
      "text/plain": [
       "NGLWidget()"
      ]
     },
     "metadata": {},
     "output_type": "display_data"
    }
   ],
   "source": [
    "#Visualize the molecule\n",
    "mol=read('polymer/PEO_25mer.pdb')\n",
    "vi=ngl.show_ase(mol);#vi.add_label(radius=2,color='black',label_type='atomindex')\n",
    "vi\n"
   ]
  },
  {
   "cell_type": "code",
   "execution_count": null,
   "id": "bd0ad78b",
   "metadata": {},
   "outputs": [],
   "source": []
  }
 ],
 "metadata": {
  "kernelspec": {
   "display_name": "Python 3 (ipykernel)",
   "language": "python",
   "name": "python3"
  },
  "language_info": {
   "codemirror_mode": {
    "name": "ipython",
    "version": 3
   },
   "file_extension": ".py",
   "mimetype": "text/x-python",
   "name": "python",
   "nbconvert_exporter": "python",
   "pygments_lexer": "ipython3",
   "version": "3.11.7"
  }
 },
 "nbformat": 4,
 "nbformat_minor": 5
}
