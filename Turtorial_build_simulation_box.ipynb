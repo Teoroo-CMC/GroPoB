{
 "cells": [
  {
   "cell_type": "markdown",
   "metadata": {},
   "source": [
    "# Initialization"
   ]
  },
  {
   "cell_type": "code",
   "execution_count": 16,
   "metadata": {
    "ExecuteTime": {
     "end_time": "2023-02-08T14:51:02.158654Z",
     "start_time": "2023-02-08T14:51:02.139421Z"
    },
    "code_folding": [],
    "init_cell": true
   },
   "outputs": [
    {
     "name": "stdout",
     "output_type": "stream",
     "text": [
      "/home/harish/GroPolBul/tutorial\n",
      "/home/harish/GroPolBul/tutorial/PEO_LiTFSI\n"
     ]
    }
   ],
   "source": [
    "#import *\n",
    "import numpy as np\n",
    "import os\n",
    "import nglview as ngl\n",
    "from ase.io import read, write\n",
    "WDIR='/home/harish/GroPolBul/tutorial/'\n",
    "#%mkdir {WDIR}\n",
    "%cd {WDIR}\n",
    "\n",
    "#Desired polymer electrolyte system\n",
    "#%mkdir PEO_LiTFSI\n",
    "%cd PEO_LiTFSI"
   ]
  },
  {
   "cell_type": "markdown",
   "metadata": {},
   "source": [
    "## Initial ITP and topology files"
   ]
  },
  {
   "cell_type": "markdown",
   "metadata": {},
   "source": [
    "The required *.itp files are added to GroProBul/ITP folder, which are then used to generate topology files for desired PEO_LITFSI system."
   ]
  },
  {
   "cell_type": "code",
   "execution_count": 11,
   "metadata": {
    "ExecuteTime": {
     "end_time": "2021-12-30T15:59:57.738944Z",
     "start_time": "2021-12-30T15:59:57.664290Z"
    }
   },
   "outputs": [],
   "source": [
    "### Make the topology file with ITP directory location and system details\n",
    "ITPDIR='/home/harish/GroPolBul/tutorial/ITP'\n",
    "npol=40;nmon=25;conc=0.08        \n",
    "nions=npol*nmon*conc\n",
    "topol=open('topol.top','w+')\n",
    "topol.write('''#include \"'''+str(ITPDIR)+'''/ff.itp\"\n",
    "#include \"'''+str(ITPDIR)+'''/ITP/PEO_'''+str(nmon)+'''mer.itp\"    \n",
    "#include \"'''+str(ITPDIR)+'''/ITP/li_75c.itp\"  \n",
    "#include \"'''+str(ITPDIR)+'''/ITP/tfsi_75c.itp\"\n",
    "        \n",
    "[ system ] \n",
    "PEO_LiTFSI_'''+str(conc)+'''\n",
    "\n",
    "[ molecules ]\n",
    "polymer   '''+str(npol)+'''     \n",
    "LI    '''+str(nions)+'''\n",
    "TFS   '''+str(nions)+'''\n",
    "''')\n",
    "topol.close() \n"
   ]
  },
  {
   "cell_type": "markdown",
   "metadata": {},
   "source": [
    "## Simulation boxes (packmol)"
   ]
  },
  {
   "cell_type": "code",
   "execution_count": 14,
   "metadata": {
    "ExecuteTime": {
     "end_time": "2021-12-30T15:37:31.147182Z",
     "start_time": "2021-12-30T15:35:03.244632Z"
    }
   },
   "outputs": [
    {
     "name": "stdout",
     "output_type": "stream",
     "text": [
      "\n",
      "################################################################################\n",
      "\n",
      " PACKMOL - Packing optimization for the automated generation of\n",
      " starting configurations for molecular dynamics simulations.\n",
      " \n",
      "                                                              Version 20.010 \n",
      "\n",
      "################################################################################\n",
      "\n",
      "  Packmol must be run with: packmol < inputfile.inp \n",
      "\n",
      "  Userguide at: http://m3g.iqm.unicamp.br/packmol \n",
      "\n",
      "  Reading input file... (Control-C aborts)\n",
      "  ERROR: Error reading number of molecules of type            2\n"
     ]
    }
   ],
   "source": [
    "#Build initial simulation boxes using packmol\n",
    "pack=open('packmol.inp','w+')\n",
    "pack.write('''tolerance 2.0\n",
    "filetype pdb\n",
    "output initial.pdb\n",
    "structure PEO_25mer.pdb\n",
    "  number '''+str(npol)+'''\n",
    "  inside cube 0. 0. 0. 100. \n",
    "end structure\n",
    "\n",
    "structure li.pdb\n",
    "  number '''+str(nions)+'''\n",
    "  inside cube 20. 20. 20. 50.\n",
    "end structure\n",
    "\n",
    "structure tfsi.pdb\n",
    "  number '''+str(nions)+'''\n",
    "  inside cube 20. 20. 20. 50.\n",
    "end structure\n",
    "        ''')\n",
    "pack.close()\n",
    "!packmol < packmol.inp\n"
   ]
  },
  {
   "cell_type": "code",
   "execution_count": 18,
   "metadata": {
    "ExecuteTime": {
     "end_time": "2021-12-30T15:37:31.704983Z",
     "start_time": "2021-12-30T15:37:31.182705Z"
    }
   },
   "outputs": [
    {
     "data": {
      "application/vnd.jupyter.widget-view+json": {
       "model_id": "a82314c652ca4103bc5f461d9e07bf00",
       "version_major": 2,
       "version_minor": 0
      },
      "text/plain": [
       "NGLWidget()"
      ]
     },
     "metadata": {},
     "output_type": "display_data"
    }
   ],
   "source": [
    "vi=ngl.show_ase(read('initial.pdb'),viewer='ngl')\n",
    "vi"
   ]
  },
  {
   "cell_type": "markdown",
   "metadata": {
    "ExecuteTime": {
     "end_time": "2021-12-30T13:47:04.449621Z",
     "start_time": "2021-12-30T13:47:04.443700Z"
    }
   },
   "source": [
    "# MD simulations (Gromacs)"
   ]
  },
  {
   "cell_type": "markdown",
   "metadata": {},
   "source": [
    "## Energy minimization"
   ]
  },
  {
   "cell_type": "code",
   "execution_count": 21,
   "metadata": {
    "ExecuteTime": {
     "end_time": "2021-12-30T16:00:22.016418Z",
     "start_time": "2021-12-30T16:00:04.540629Z"
    }
   },
   "outputs": [
    {
     "name": "stdout",
     "output_type": "stream",
     "text": [
      "Process is interrupted.\n"
     ]
    }
   ],
   "source": [
    "%%bash\n",
    "#RUN in beskow/tegner terminal for preparing initial configuration file and EM step\n",
    "\n",
    "gmx editconf -f initial.pdb -o preem.gro -c -bt cubic -d 0\n",
    "mkdir em\n",
    "cd em\n",
    "echo '''; em.mdp - used as input into grompp to generate em.tpr\n",
    "; Parameters describing what to do, when to stop and what to save\n",
    "integrator  = steep         ; Algorithm (steep = steepest descent minimization)\n",
    "dt          = 0.001\t    ; ps\n",
    "emtol       = 100.0        ; Stop minimization when the maximum force < 1000.0 kJ/mol/nm\n",
    "emstep      = 0.01          ; Minimization step size\n",
    "nsteps      = 100000          ; Maximum number of (minimization) steps to perform\n",
    "\n",
    "; Parameters describing how to find the neighbors of each atom and how to calculate the interactions\n",
    "nstlist         = 1         ; Frequency to update the neighbor list and long range forces\n",
    "ns_type         = grid      ; Method to determine neighbor list (simple, grid)\n",
    "rlist           = 1.3\n",
    "cutoff-scheme   = Verlet    ; Buffered neighbor searching\n",
    ";coulombtype    = PME       ; Treatment of long range electrostatic interactions\n",
    "rcoulomb        = 1.3       ; Short-range electrostatic cut-off\n",
    "vdwtype         = cut-off\n",
    "rvdw            = 1.3       ; Short-range Van der Waals cut-off\n",
    "fourierspacing  = 0.16\n",
    ";pme_order      = 4\n",
    "ewald_rtol      = 1e-4\n",
    "pbc             = xyz       ; Periodic Boundary Conditions in all 3 dimensions\n",
    "''' > em.mdp\n",
    "\n",
    "gmx grompp -f em.mdp -c ../preem.gro -p ../topol.top -o em.tpr -maxwarn 2\n",
    "gmx mdrun -s em.tpr -deffnm em -v\n",
    "cd ..\n"
   ]
  },
  {
   "cell_type": "code",
   "execution_count": 19,
   "metadata": {},
   "outputs": [
    {
     "data": {
      "application/vnd.jupyter.widget-view+json": {
       "model_id": "29f0720e58734a5eab69f24306689577",
       "version_major": 2,
       "version_minor": 0
      },
      "text/plain": [
       "NGLWidget()"
      ]
     },
     "metadata": {},
     "output_type": "display_data"
    }
   ],
   "source": [
    "vi=ngl.show_ase(read('em/em.gro'),viewer='ngl')\n",
    "vi"
   ]
  },
  {
   "cell_type": "markdown",
   "metadata": {},
   "source": [
    " ## Pre-equilibration step"
   ]
  },
  {
   "cell_type": "code",
   "execution_count": null,
   "metadata": {
    "ExecuteTime": {
     "end_time": "2021-12-30T17:29:58.652493Z",
     "start_time": "2021-12-30T17:29:58.119027Z"
    },
    "scrolled": true
   },
   "outputs": [],
   "source": [
    "%%bash\n",
    "#RUN for preeq step\n",
    "\n",
    "mkdir preeq\n",
    "cd preeq\n",
    "\n",
    "#Initial NVT \n",
    "mdp=/home/harish/GroPolBul/mdp/nvt_preeq.mdp\n",
    "gmx grompp -f $mdp -c ../em/em.gro -p ../topol.top -o nvt.tpr -maxwarn 2\n",
    "gmx mdrun -s nvt.tpr -cpi nvt.cpt -deffnm nvt -v\n",
    "\n",
    "#Initial NPT\n",
    "mdp=/home/harish/GroPolBul/mdp/nvt_preeq.mdp\n",
    "gmx grompp -f $mdp -c nvt.gro -p ../topol.top -o npt.tpr -maxwarn 2\n",
    "gmx mdrun -s npt.tpr -cpi npt.cpt -deffnm npt -v\n",
    "\n",
    "cd .."
   ]
  },
  {
   "cell_type": "code",
   "execution_count": 20,
   "metadata": {
    "ExecuteTime": {
     "end_time": "2022-01-03T11:10:56.258337Z",
     "start_time": "2022-01-03T11:10:53.943739Z"
    }
   },
   "outputs": [
    {
     "data": {
      "application/vnd.jupyter.widget-view+json": {
       "model_id": "7070e859cf2c4b3c9bd1d59cec2cd970",
       "version_major": 2,
       "version_minor": 0
      },
      "text/plain": [
       "NGLWidget()"
      ]
     },
     "metadata": {},
     "output_type": "display_data"
    }
   ],
   "source": [
    "vi=ngl.show_ase(read('preeq/nvt.gro'),viewer='ngl')\n",
    "vi"
   ]
  },
  {
   "cell_type": "code",
   "execution_count": 21,
   "metadata": {
    "ExecuteTime": {
     "end_time": "2022-01-03T08:52:51.678193Z",
     "start_time": "2022-01-03T08:52:50.778133Z"
    }
   },
   "outputs": [
    {
     "data": {
      "application/vnd.jupyter.widget-view+json": {
       "model_id": "63b8b47bbf5b4adba1bd8c1d3336ec03",
       "version_major": 2,
       "version_minor": 0
      },
      "text/plain": [
       "NGLWidget()"
      ]
     },
     "metadata": {},
     "output_type": "display_data"
    }
   ],
   "source": [
    "vi=ngl.show_ase(read('preeq/npt.gro'),viewer='ngl')\n",
    "vi"
   ]
  },
  {
   "cell_type": "markdown",
   "metadata": {},
   "source": [
    "## NPT Equilibiriation step"
   ]
  },
  {
   "cell_type": "code",
   "execution_count": 22,
   "metadata": {
    "ExecuteTime": {
     "end_time": "2022-01-11T13:11:19.511561Z",
     "start_time": "2022-01-11T13:11:17.408615Z"
    }
   },
   "outputs": [
    {
     "name": "stderr",
     "output_type": "stream",
     "text": [
      "mkdir: cannot create directory ‘400’: File exists\n",
      "gmx: error while loading shared libraries: libopenblas.so.0: cannot open shared object file: No such file or directory\n",
      "gmx: error while loading shared libraries: libopenblas.so.0: cannot open shared object file: No such file or directory\n"
     ]
    }
   ],
   "source": [
    "%%bash\n",
    "#RUN for NPT equilibiration step at a desired initial temperature 400K\n",
    "\n",
    "mkdir 400\n",
    "cd 400\n",
    "\n",
    "mdp=/home/harish/GroPolBul/mdp/npt_eq_T.mdp\n",
    "gmx grompp -f $mdp -c ../preeq/npt.gro -p ../topol.top -o npt_eq.tpr -maxwarn 2\n",
    "gmx mdrun -s npt_eq.tpr -cpi npt_eq.cpt -deffnm npt_eq -v\n",
    "\n",
    "cd .."
   ]
  },
  {
   "cell_type": "code",
   "execution_count": 23,
   "metadata": {},
   "outputs": [
    {
     "data": {
      "application/vnd.jupyter.widget-view+json": {
       "model_id": "248384619f334d0cb6cc2df44cb13266",
       "version_major": 2,
       "version_minor": 0
      },
      "text/plain": [
       "NGLWidget()"
      ]
     },
     "metadata": {},
     "output_type": "display_data"
    }
   ],
   "source": [
    "vi=ngl.show_ase(read('400/npt_eq.gro'),viewer='ngl')\n",
    "vi"
   ]
  },
  {
   "cell_type": "code",
   "execution_count": null,
   "metadata": {},
   "outputs": [],
   "source": []
  }
 ],
 "metadata": {
  "celltoolbar": "Initialization Cell",
  "hide_input": false,
  "kernelspec": {
   "display_name": "Python 3 (ipykernel)",
   "language": "python",
   "name": "python3"
  },
  "language_info": {
   "codemirror_mode": {
    "name": "ipython",
    "version": 3
   },
   "file_extension": ".py",
   "mimetype": "text/x-python",
   "name": "python",
   "nbconvert_exporter": "python",
   "pygments_lexer": "ipython3",
   "version": "3.7.11"
  },
  "latex_envs": {
   "LaTeX_envs_menu_present": true,
   "autoclose": false,
   "autocomplete": true,
   "bibliofile": "biblio.bib",
   "cite_by": "apalike",
   "current_citInitial": 1,
   "eqLabelWithNumbers": true,
   "eqNumInitial": 1,
   "hotkeys": {
    "equation": "Ctrl-E",
    "itemize": "Ctrl-I"
   },
   "labels_anchors": false,
   "latex_user_defs": false,
   "report_style_numbering": false,
   "user_envs_cfg": false
  },
  "toc": {
   "base_numbering": 1,
   "nav_menu": {},
   "number_sections": true,
   "sideBar": true,
   "skip_h1_title": false,
   "title_cell": "Table of Contents",
   "title_sidebar": "Contents",
   "toc_cell": false,
   "toc_position": {
    "height": "calc(100% - 180px)",
    "left": "10px",
    "top": "150px",
    "width": "165px"
   },
   "toc_section_display": true,
   "toc_window_display": true
  },
  "varInspector": {
   "cols": {
    "lenName": 16,
    "lenType": 16,
    "lenVar": 40
   },
   "kernels_config": {
    "python": {
     "delete_cmd_postfix": "",
     "delete_cmd_prefix": "del ",
     "library": "var_list.py",
     "varRefreshCmd": "print(var_dic_list())"
    },
    "r": {
     "delete_cmd_postfix": ") ",
     "delete_cmd_prefix": "rm(",
     "library": "var_list.r",
     "varRefreshCmd": "cat(var_dic_list()) "
    }
   },
   "types_to_exclude": [
    "module",
    "function",
    "builtin_function_or_method",
    "instance",
    "_Feature"
   ],
   "window_display": false
  }
 },
 "nbformat": 4,
 "nbformat_minor": 4
}
